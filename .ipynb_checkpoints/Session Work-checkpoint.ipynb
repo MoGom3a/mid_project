{
 "cells": [
  {
   "cell_type": "markdown",
   "id": "f9c67599",
   "metadata": {},
   "source": [
    "# Agenda\n",
    ">### Streamlit \n",
    ">* Text \n",
    ">* Media\n",
    ">* Dataframe\n",
    ">* Selection\n",
    ">* Input\n",
    ">* sildebar\n",
    ">* Plotly charts\n",
    ">* SubPlot with streamlit\n",
    ">* Pages\n",
    ">* Columns \n",
    ">* tabs "
   ]
  },
  {
   "cell_type": "code",
   "execution_count": 7,
   "id": "ad4d86f5",
   "metadata": {},
   "outputs": [],
   "source": [
    "import pandas as pd \n",
    "import numpy as np \n",
    "import plotly.express as px \n",
    "import plotly.figure_factory as ff\n",
    "import plotly.graph_objects as go\n",
    "import streamlit as st"
   ]
  },
  {
   "cell_type": "code",
   "execution_count": 6,
   "id": "31eb293f-cbae-40ab-8d63-efcb0e9e2fba",
   "metadata": {},
   "outputs": [
    {
     "data": {
      "text/plain": [
       "'1.39.0'"
      ]
     },
     "execution_count": 6,
     "metadata": {},
     "output_type": "execute_result"
    }
   ],
   "source": [
    "import streamlit \n",
    "streamlit.__version__"
   ]
  },
  {
   "cell_type": "markdown",
   "id": "8724abc3-2203-4ecd-81b9-98d687730b3b",
   "metadata": {},
   "source": [
    "### Write file python"
   ]
  },
  {
   "cell_type": "code",
   "execution_count": 11,
   "id": "a74eee20",
   "metadata": {},
   "outputs": [
    {
     "name": "stdout",
     "output_type": "stream",
     "text": [
      "Overwriting file.py\n"
     ]
    }
   ],
   "source": [
    "%%writefile file.py\n",
    "\n",
    "\n",
    "import sklearn\n",
    "\n",
    "for i in range(1,10):\n",
    "    print(i)\n",
    "\n",
    "\n"
   ]
  },
  {
   "cell_type": "code",
   "execution_count": 10,
   "id": "b53fe9d7-ea29-4498-be54-52e71a909286",
   "metadata": {},
   "outputs": [
    {
     "ename": "NameError",
     "evalue": "name 'sklearn' is not defined",
     "output_type": "error",
     "traceback": [
      "\u001b[1;31m---------------------------------------------------------------------------\u001b[0m",
      "\u001b[1;31mNameError\u001b[0m                                 Traceback (most recent call last)",
      "Cell \u001b[1;32mIn[10], line 1\u001b[0m\n\u001b[1;32m----> 1\u001b[0m \u001b[43msklearn\u001b[49m\n",
      "\u001b[1;31mNameError\u001b[0m: name 'sklearn' is not defined"
     ]
    }
   ],
   "source": [
    "sklearn"
   ]
  },
  {
   "cell_type": "markdown",
   "id": "4215520e",
   "metadata": {},
   "source": [
    "### Text"
   ]
  },
  {
   "cell_type": "code",
   "execution_count": 21,
   "id": "e85a252b",
   "metadata": {},
   "outputs": [
    {
     "name": "stdout",
     "output_type": "stream",
     "text": [
      "Overwriting app.py\n"
     ]
    }
   ],
   "source": [
    "%%writefile app.py\n",
    "\n",
    "import streamlit as st \n",
    "st.set_page_config(layout='wide')\n",
    "# title \n",
    "st.title('this is title')\n",
    "\n",
    "# header\n",
    "st.header('this is header'.title() ,divider = True )\n",
    "# markdown\n",
    "st.markdown('this is markdown')\n",
    "# subheader\n",
    "st.subheader('this is subheader')"
   ]
  },
  {
   "cell_type": "code",
   "execution_count": 22,
   "id": "32cc471f",
   "metadata": {},
   "outputs": [
    {
     "name": "stdout",
     "output_type": "stream",
     "text": [
      "^C\n"
     ]
    }
   ],
   "source": [
    "! streamlit run app.py"
   ]
  },
  {
   "cell_type": "code",
   "execution_count": 23,
   "id": "1319aec0",
   "metadata": {},
   "outputs": [
    {
     "name": "stdout",
     "output_type": "stream",
     "text": [
      "Writing app2.py\n"
     ]
    }
   ],
   "source": [
    "%%writefile app2.py\n",
    "import streamlit as st\n",
    "st.set_page_config(layout='wide')\n",
    "st.markdown(\"<h1 style = 'text-align : center ; color : red;'> this is styled markdown </h1>\" , unsafe_allow_html=True )"
   ]
  },
  {
   "cell_type": "code",
   "execution_count": 24,
   "id": "1fc81b38",
   "metadata": {},
   "outputs": [
    {
     "name": "stdout",
     "output_type": "stream",
     "text": [
      "^C\n"
     ]
    }
   ],
   "source": [
    "! streamlit run app2.py"
   ]
  },
  {
   "cell_type": "markdown",
   "id": "39973803",
   "metadata": {},
   "source": [
    "### Media"
   ]
  },
  {
   "cell_type": "code",
   "execution_count": 25,
   "id": "05b3722c",
   "metadata": {},
   "outputs": [
    {
     "name": "stdout",
     "output_type": "stream",
     "text": [
      "Writing app3.py\n"
     ]
    }
   ],
   "source": [
    "%%writefile app3.py\n",
    "import streamlit as st \n",
    "st.set_page_config(layout='wide')\n",
    "# image\n",
    "st.image('download.png')\n",
    "\n",
    "# video\n",
    "# st.video('path')"
   ]
  },
  {
   "cell_type": "code",
   "execution_count": 26,
   "id": "3534ba1b",
   "metadata": {},
   "outputs": [
    {
     "name": "stdout",
     "output_type": "stream",
     "text": [
      "^C\n"
     ]
    }
   ],
   "source": [
    "! streamlit run app3.py"
   ]
  },
  {
   "cell_type": "markdown",
   "id": "b6ecf3af",
   "metadata": {},
   "source": [
    "### Dataframe"
   ]
  },
  {
   "cell_type": "code",
   "execution_count": 29,
   "id": "6d1ec071",
   "metadata": {},
   "outputs": [
    {
     "name": "stdout",
     "output_type": "stream",
     "text": [
      "Overwriting app4.py\n"
     ]
    }
   ],
   "source": [
    "%%writefile app4.py\n",
    "\n",
    "# import some libraries\n",
    "import streamlit as st\n",
    "import pandas as pd \n",
    "import plotly.express as px \n",
    "st.set_page_config(layout='wide')\n",
    "\n",
    "# read tips dataframe\n",
    "df = px.data.tips()\n",
    "\n",
    "# streamlit dataframe\n",
    "\n",
    "st.dataframe(df)"
   ]
  },
  {
   "cell_type": "code",
   "execution_count": 30,
   "id": "0725f1b7",
   "metadata": {},
   "outputs": [
    {
     "name": "stdout",
     "output_type": "stream",
     "text": [
      "^C\n"
     ]
    }
   ],
   "source": [
    "! streamlit run app4.py"
   ]
  },
  {
   "cell_type": "code",
   "execution_count": 35,
   "id": "64854a97-b738-4e9d-b839-c44d03188f90",
   "metadata": {},
   "outputs": [
    {
     "name": "stdout",
     "output_type": "stream",
     "text": [
      "Overwriting app14.py\n"
     ]
    }
   ],
   "source": [
    "%%writefile app14.py\n",
    "\n",
    "# import some libraries\n",
    "import streamlit as st\n",
    "import pandas as pd \n",
    "import plotly.express as px \n",
    "st.set_page_config(layout='wide')\n",
    "\n",
    "# read tips dataframe\n",
    "df = px.data.tips()\n",
    "\n",
    "# streamlit dataframe\n",
    "st.title('Describe Numeric Columns')\n",
    "st.dataframe(df.describe())\n",
    "\n",
    "st.title('Describe Categorical Columns')\n",
    "st.dataframe(df.describe(include = 'O'))"
   ]
  },
  {
   "cell_type": "code",
   "execution_count": 34,
   "id": "60973f10-333b-4e13-8fdd-835fe8cf36c3",
   "metadata": {},
   "outputs": [
    {
     "name": "stdout",
     "output_type": "stream",
     "text": [
      "^C\n"
     ]
    }
   ],
   "source": [
    "! streamlit run app14.py"
   ]
  },
  {
   "cell_type": "markdown",
   "id": "a497dccd",
   "metadata": {},
   "source": [
    "### Selection"
   ]
  },
  {
   "cell_type": "code",
   "execution_count": 58,
   "id": "41530731",
   "metadata": {},
   "outputs": [
    {
     "name": "stdout",
     "output_type": "stream",
     "text": [
      "Overwriting app5.py\n"
     ]
    }
   ],
   "source": [
    "%%writefile app5.py\n",
    "import streamlit as st\n",
    "import pandas as pd \n",
    "import plotly.express as px \n",
    "st.set_page_config(layout='wide')\n",
    "\n",
    "\n",
    "# checkbox\n",
    "x = st.checkbox('click')\n",
    "st.write(x)\n",
    "\n",
    "# button\n",
    "button = st.button('click on ad')\n",
    "st.write(button)\n",
    "\n",
    "# radio\n",
    "gender = st.radio('select gender' , options=['Male' , 'Female'])\n",
    "st.write(gender)\n",
    "\n",
    "# selectbox\n",
    "time = st.selectbox('select time' , options=['select' , 'dinner' , 'lunch'] , index = 0 )\n",
    "st.write(time)\n",
    "\n",
    "# multiselect\n",
    "time = st.multiselect('select time' , options=['dinner' , 'lunch'] )\n",
    "st.write(time)\n",
    "\n",
    "# select_slider\n",
    "time = st.select_slider('select time' , ['dinner' , 'lunch' , 'breakfast'])\n",
    "st.write(time)\n",
    "# slider\n",
    "\n",
    "age = st.slider('select age' , min_value=20 , max_value=80 , value=45 ,step= 3)\n",
    "st.write(age)"
   ]
  },
  {
   "cell_type": "code",
   "execution_count": 59,
   "id": "e5695714",
   "metadata": {},
   "outputs": [
    {
     "name": "stdout",
     "output_type": "stream",
     "text": [
      "^C\n"
     ]
    }
   ],
   "source": [
    "! streamlit run app5.py"
   ]
  },
  {
   "cell_type": "markdown",
   "id": "b63a5460",
   "metadata": {},
   "source": [
    "### Input "
   ]
  },
  {
   "cell_type": "code",
   "execution_count": 66,
   "id": "6cc4caa8",
   "metadata": {},
   "outputs": [
    {
     "name": "stdout",
     "output_type": "stream",
     "text": [
      "Overwriting app6.py\n"
     ]
    }
   ],
   "source": [
    "%%writefile app6.py\n",
    "import streamlit as st\n",
    "\n",
    "# number_input\n",
    "age = st.number_input('select age' , min_value=20 , max_value=80 , value=40 , step=1)\n",
    "st.write(age)\n",
    "\n",
    "# text_input\n",
    "st.write(st.text_input('input name'))\n",
    "\n",
    "# date_input\n",
    "st.write(st.date_input('select date'))\n",
    "\n",
    "# time_input\n",
    "st.write(st.time_input('select time'))\n",
    "\n",
    "# text_area\n",
    "st.write(st.text_area('input description'))\n",
    "\n",
    "# color_picker\n",
    "\n",
    "st.write(st.color_picker('select color'))"
   ]
  },
  {
   "cell_type": "code",
   "execution_count": 67,
   "id": "c400647d",
   "metadata": {},
   "outputs": [
    {
     "name": "stdout",
     "output_type": "stream",
     "text": [
      "^C\n"
     ]
    }
   ],
   "source": [
    "! streamlit run app6.py"
   ]
  },
  {
   "cell_type": "markdown",
   "id": "1ba51501-69d4-447e-a184-2a6efd4f49a7",
   "metadata": {},
   "source": [
    "### Filter Data Frame "
   ]
  },
  {
   "cell_type": "code",
   "execution_count": 74,
   "id": "c794f111-2d5f-47c8-922e-e5340455d154",
   "metadata": {},
   "outputs": [
    {
     "data": {
      "text/plain": [
       "array(['Sun', 'Sat', 'Thur', 'Fri'], dtype=object)"
      ]
     },
     "execution_count": 74,
     "metadata": {},
     "output_type": "execute_result"
    }
   ],
   "source": [
    "px.data.tips()['day'].unique()"
   ]
  },
  {
   "cell_type": "code",
   "execution_count": 75,
   "id": "7f58c4ef-d7f3-4b24-ac19-74ad29056d0e",
   "metadata": {},
   "outputs": [
    {
     "name": "stdout",
     "output_type": "stream",
     "text": [
      "Overwriting app16.py\n"
     ]
    }
   ],
   "source": [
    "%%writefile app16.py\n",
    "\n",
    "import streamlit as st\n",
    "import pandas as pd \n",
    "import plotly.express as px \n",
    "st.set_page_config(layout='wide')\n",
    "\n",
    "df = px.data.tips()\n",
    "\n",
    "time = st.selectbox('select time' , options= df['time'].unique() )\n",
    "st.write(time)\n",
    "\n",
    "sub_df = df[df['time'] == time]\n",
    "st.dataframe(sub_df)\n",
    "\n",
    "# multiselect\n",
    "day = st.multiselect('select day' , options=df['day'].unique() )\n",
    "st.write(day)\n",
    "sub_df = df[df['day'].isin(day)]\n",
    "st.dataframe(sub_df)\n",
    "\n",
    "\n"
   ]
  },
  {
   "cell_type": "code",
   "execution_count": 85,
   "id": "4efa07ad-ed1e-4f5a-81b8-d89631bfecbc",
   "metadata": {},
   "outputs": [
    {
     "name": "stdout",
     "output_type": "stream",
     "text": [
      "Overwriting app17.py\n"
     ]
    }
   ],
   "source": [
    "%%writefile app17.py\n",
    "\n",
    "import streamlit as st\n",
    "import pandas as pd \n",
    "import plotly.express as px \n",
    "st.set_page_config(layout='wide')\n",
    "\n",
    "df = px.data.tips()\n",
    "\n",
    "time = st.selectbox('select time' , options= df['time'].unique() )\n",
    "day = st.multiselect('select day' , options=df['day'].unique() )\n",
    "\n",
    "msk = (df['time'] == time) & (df['day'].isin(day))\n",
    "\n",
    "\n",
    "\n",
    "st.dataframe(df[msk])\n",
    "\n"
   ]
  },
  {
   "cell_type": "code",
   "execution_count": 92,
   "id": "5737e355-4c79-43ee-954a-902cc3683743",
   "metadata": {},
   "outputs": [
    {
     "name": "stdout",
     "output_type": "stream",
     "text": [
      "^C\n"
     ]
    }
   ],
   "source": [
    "! streamlit run app17.py"
   ]
  },
  {
   "cell_type": "markdown",
   "id": "5841bcfd",
   "metadata": {},
   "source": [
    "### sidebar "
   ]
  },
  {
   "cell_type": "code",
   "execution_count": 83,
   "id": "1dea4b73",
   "metadata": {},
   "outputs": [
    {
     "name": "stdout",
     "output_type": "stream",
     "text": [
      "Overwriting app7.py\n"
     ]
    }
   ],
   "source": [
    "%%writefile app7.py\n",
    "\n",
    "import streamlit as st\n",
    "import pandas as pd \n",
    "import plotly.express as px \n",
    "st.set_page_config(layout='wide')\n",
    "\n",
    "# sidbar title\n",
    "st.sidebar.title('this is sidebar title')\n",
    "\n",
    "# sidebar checkbox\n",
    "st.sidebar.checkbox('click')\n",
    "\n",
    "# sidebar selectbox\n",
    "time = st.sidebar.selectbox('choose time' , ['dinner' , 'lunch'])\n",
    "\n",
    "# sidbar radio\n",
    "st.sidebar.radio('choose time' , ['dinner' , 'lunch'])\n",
    "\n",
    "# sidebar button\n",
    "choice = st.sidebar.button('click')\n",
    "\n",
    "if choice:\n",
    "    \n"
   ]
  },
  {
   "cell_type": "code",
   "execution_count": 84,
   "id": "603bcb3b",
   "metadata": {},
   "outputs": [
    {
     "name": "stdout",
     "output_type": "stream",
     "text": [
      "^C\n"
     ]
    }
   ],
   "source": [
    "! streamlit run app7.py"
   ]
  },
  {
   "cell_type": "markdown",
   "id": "381b9154",
   "metadata": {},
   "source": [
    "#### slidbar to filter dataframe "
   ]
  },
  {
   "cell_type": "code",
   "execution_count": 97,
   "id": "9bd9e5d5-c069-434d-b63e-a5c2f682bde1",
   "metadata": {},
   "outputs": [
    {
     "name": "stdout",
     "output_type": "stream",
     "text": [
      "Overwriting app17.py\n"
     ]
    }
   ],
   "source": [
    "%%writefile app17.py\n",
    "\n",
    "import streamlit as st\n",
    "import pandas as pd \n",
    "import plotly.express as px \n",
    "st.set_page_config(layout='wide')\n",
    "\n",
    "df = px.data.tips()\n",
    "\n",
    "time = st.selectbox('select time' , options= df['time'].unique() )\n",
    "day = st.multiselect('select day' , options=df['day'].unique() )\n",
    "\n",
    "msk = (df['time'] == time) & (df['day'].isin(day))\n",
    "\n",
    "\n",
    "\n",
    "st.dataframe(df[msk])\n",
    "\n"
   ]
  },
  {
   "cell_type": "code",
   "execution_count": 99,
   "id": "0fb9b76e",
   "metadata": {},
   "outputs": [
    {
     "name": "stdout",
     "output_type": "stream",
     "text": [
      "^C\n"
     ]
    }
   ],
   "source": [
    "! streamlit run app17.py"
   ]
  },
  {
   "cell_type": "markdown",
   "id": "d77f4679",
   "metadata": {},
   "source": [
    "### Plotly charts "
   ]
  },
  {
   "cell_type": "code",
   "execution_count": 93,
   "id": "06c379e1",
   "metadata": {},
   "outputs": [
    {
     "name": "stdout",
     "output_type": "stream",
     "text": [
      "Writing app9.py\n"
     ]
    }
   ],
   "source": [
    "%%writefile app9.py\n",
    "\n",
    "# import libraries \n",
    "import streamlit as st\n",
    "import pandas as pd \n",
    "import plotly.express as px \n",
    "st.set_page_config(layout='wide')\n",
    "\n",
    "# read dataframe\n",
    "df = px.data.tips()\n",
    "\n",
    "# make figure \n",
    "\n",
    "fig = px.histogram(data_frame=df , x = 'total_bill')\n",
    "\n",
    "# deploy chart\n",
    "st.plotly_chart(fig)\n"
   ]
  },
  {
   "cell_type": "code",
   "execution_count": 94,
   "id": "255cec3d",
   "metadata": {},
   "outputs": [
    {
     "name": "stdout",
     "output_type": "stream",
     "text": [
      "^C\n"
     ]
    }
   ],
   "source": [
    "! streamlit run app9.py"
   ]
  },
  {
   "cell_type": "markdown",
   "id": "1379e8d6-45cb-46c3-aaec-51cbf922f094",
   "metadata": {},
   "source": [
    "### Create filter with plotly chart"
   ]
  },
  {
   "cell_type": "code",
   "execution_count": 95,
   "id": "5e476846",
   "metadata": {},
   "outputs": [
    {
     "name": "stdout",
     "output_type": "stream",
     "text": [
      "Overwriting app9.py\n"
     ]
    }
   ],
   "source": [
    "%%writefile app9.py\n",
    "\n",
    "# import libraries \n",
    "import streamlit as st\n",
    "import pandas as pd \n",
    "import plotly.express as px \n",
    "st.set_page_config(layout='wide')\n",
    "\n",
    "# read dataframe\n",
    "df = px.data.tips()\n",
    "\n",
    "# create slider \n",
    "time = st.sidebar.selectbox('select time' , options=df['time'].unique())\n",
    "\n",
    "msk = df['time'] == time\n",
    "# make figure \n",
    "\n",
    "fig = px.histogram(data_frame=df[msk] , x = 'total_bill')\n",
    "# deploy chart\n",
    "st.plotly_chart(fig)\n"
   ]
  },
  {
   "cell_type": "code",
   "execution_count": 96,
   "id": "d71373d0",
   "metadata": {},
   "outputs": [
    {
     "name": "stdout",
     "output_type": "stream",
     "text": [
      "^C\n"
     ]
    }
   ],
   "source": [
    "! streamlit run app9.py"
   ]
  },
  {
   "cell_type": "code",
   "execution_count": 112,
   "id": "ea25365b-e60e-475e-b732-d796c62d6963",
   "metadata": {},
   "outputs": [],
   "source": [
    "fig = px.histogram(data_frame=df , x = 'total_bill')"
   ]
  },
  {
   "cell_type": "code",
   "execution_count": 116,
   "id": "e23fd773-01a5-4041-8c10-a9357900f5d5",
   "metadata": {},
   "outputs": [
    {
     "name": "stdout",
     "output_type": "stream",
     "text": [
      "Histogram({\n",
      "    'alignmentgroup': 'True',\n",
      "    'bingroup': 'x',\n",
      "    'hovertemplate': 'total_bill=%{x}<br>count=%{y}<extra></extra>',\n",
      "    'legendgroup': '',\n",
      "    'marker': {'color': '#000001', 'pattern': {'shape': ''}},\n",
      "    'name': '',\n",
      "    'offsetgroup': '',\n",
      "    'orientation': 'v',\n",
      "    'showlegend': False,\n",
      "    'x': array([16.99, 10.34, 21.01, ..., 22.67, 17.82, 18.78]),\n",
      "    'xaxis': 'x',\n",
      "    'yaxis': 'y'\n",
      "})\n"
     ]
    }
   ],
   "source": [
    "print(fig.data[0])"
   ]
  },
  {
   "cell_type": "code",
   "execution_count": 102,
   "id": "b8735622",
   "metadata": {},
   "outputs": [],
   "source": [
    "from plotly.subplots import make_subplots\n",
    "import plotly.express as px \n",
    "df = px.data.tips()"
   ]
  },
  {
   "cell_type": "code",
   "execution_count": 111,
   "id": "0d67acf5-e481-49b1-abf2-b11d9744d0a5",
   "metadata": {},
   "outputs": [
    {
     "data": {
      "application/vnd.plotly.v1+json": {
       "config": {
        "plotlyServerURL": "https://plot.ly"
       },
       "data": [
        {
         "alignmentgroup": "True",
         "bingroup": "x",
         "hovertemplate": "total_bill=%{x}<br>count=%{y}<extra></extra>",
         "legendgroup": "",
         "marker": {
          "color": "#000001",
          "pattern": {
           "shape": ""
          }
         },
         "name": "",
         "offsetgroup": "",
         "orientation": "v",
         "showlegend": false,
         "type": "histogram",
         "x": [
          16.99,
          10.34,
          21.01,
          23.68,
          24.59,
          25.29,
          8.77,
          26.88,
          15.04,
          14.78,
          10.27,
          35.26,
          15.42,
          18.43,
          14.83,
          21.58,
          10.33,
          16.29,
          16.97,
          20.65,
          17.92,
          20.29,
          15.77,
          39.42,
          19.82,
          17.81,
          13.37,
          12.69,
          21.7,
          19.65,
          9.55,
          18.35,
          15.06,
          20.69,
          17.78,
          24.06,
          16.31,
          16.93,
          18.69,
          31.27,
          16.04,
          17.46,
          13.94,
          9.68,
          30.4,
          18.29,
          22.23,
          32.4,
          28.55,
          18.04,
          12.54,
          10.29,
          34.81,
          9.94,
          25.56,
          19.49,
          38.01,
          26.41,
          11.24,
          48.27,
          20.29,
          13.81,
          11.02,
          18.29,
          17.59,
          20.08,
          16.45,
          3.07,
          20.23,
          15.01,
          12.02,
          17.07,
          26.86,
          25.28,
          14.73,
          10.51,
          17.92,
          27.2,
          22.76,
          17.29,
          19.44,
          16.66,
          10.07,
          32.68,
          15.98,
          34.83,
          13.03,
          18.28,
          24.71,
          21.16,
          28.97,
          22.49,
          5.75,
          16.32,
          22.75,
          40.17,
          27.28,
          12.03,
          21.01,
          12.46,
          11.35,
          15.38,
          44.3,
          22.42,
          20.92,
          15.36,
          20.49,
          25.21,
          18.24,
          14.31,
          14,
          7.25,
          38.07,
          23.95,
          25.71,
          17.31,
          29.93,
          10.65,
          12.43,
          24.08,
          11.69,
          13.42,
          14.26,
          15.95,
          12.48,
          29.8,
          8.52,
          14.52,
          11.38,
          22.82,
          19.08,
          20.27,
          11.17,
          12.26,
          18.26,
          8.51,
          10.33,
          14.15,
          16,
          13.16,
          17.47,
          34.3,
          41.19,
          27.05,
          16.43,
          8.35,
          18.64,
          11.87,
          9.78,
          7.51,
          14.07,
          13.13,
          17.26,
          24.55,
          19.77,
          29.85,
          48.17,
          25,
          13.39,
          16.49,
          21.5,
          12.66,
          16.21,
          13.81,
          17.51,
          24.52,
          20.76,
          31.71,
          10.59,
          10.63,
          50.81,
          15.81,
          7.25,
          31.85,
          16.82,
          32.9,
          17.89,
          14.48,
          9.6,
          34.63,
          34.65,
          23.33,
          45.35,
          23.17,
          40.55,
          20.69,
          20.9,
          30.46,
          18.15,
          23.1,
          15.69,
          19.81,
          28.44,
          15.48,
          16.58,
          7.56,
          10.34,
          43.11,
          13,
          13.51,
          18.71,
          12.74,
          13,
          16.4,
          20.53,
          16.47,
          26.59,
          38.73,
          24.27,
          12.76,
          30.06,
          25.89,
          48.33,
          13.27,
          28.17,
          12.9,
          28.15,
          11.59,
          7.74,
          30.14,
          12.16,
          13.42,
          8.58,
          15.98,
          13.42,
          16.27,
          10.09,
          20.45,
          13.28,
          22.12,
          24.01,
          15.69,
          11.61,
          10.77,
          15.53,
          10.07,
          12.6,
          32.83,
          35.83,
          29.03,
          27.18,
          22.67,
          17.82,
          18.78
         ],
         "xaxis": "x",
         "yaxis": "y"
        },
        {
         "alignmentgroup": "True",
         "bingroup": "x",
         "hovertemplate": "time=%{x}<br>count=%{y}<extra></extra>",
         "legendgroup": "",
         "marker": {
          "color": "#000001",
          "pattern": {
           "shape": ""
          }
         },
         "name": "",
         "offsetgroup": "",
         "orientation": "v",
         "showlegend": false,
         "type": "histogram",
         "x": [
          "Dinner",
          "Dinner",
          "Dinner",
          "Dinner",
          "Dinner",
          "Dinner",
          "Dinner",
          "Dinner",
          "Dinner",
          "Dinner",
          "Dinner",
          "Dinner",
          "Dinner",
          "Dinner",
          "Dinner",
          "Dinner",
          "Dinner",
          "Dinner",
          "Dinner",
          "Dinner",
          "Dinner",
          "Dinner",
          "Dinner",
          "Dinner",
          "Dinner",
          "Dinner",
          "Dinner",
          "Dinner",
          "Dinner",
          "Dinner",
          "Dinner",
          "Dinner",
          "Dinner",
          "Dinner",
          "Dinner",
          "Dinner",
          "Dinner",
          "Dinner",
          "Dinner",
          "Dinner",
          "Dinner",
          "Dinner",
          "Dinner",
          "Dinner",
          "Dinner",
          "Dinner",
          "Dinner",
          "Dinner",
          "Dinner",
          "Dinner",
          "Dinner",
          "Dinner",
          "Dinner",
          "Dinner",
          "Dinner",
          "Dinner",
          "Dinner",
          "Dinner",
          "Dinner",
          "Dinner",
          "Dinner",
          "Dinner",
          "Dinner",
          "Dinner",
          "Dinner",
          "Dinner",
          "Dinner",
          "Dinner",
          "Dinner",
          "Dinner",
          "Dinner",
          "Dinner",
          "Dinner",
          "Dinner",
          "Dinner",
          "Dinner",
          "Dinner",
          "Lunch",
          "Lunch",
          "Lunch",
          "Lunch",
          "Lunch",
          "Lunch",
          "Lunch",
          "Lunch",
          "Lunch",
          "Lunch",
          "Lunch",
          "Lunch",
          "Lunch",
          "Dinner",
          "Dinner",
          "Dinner",
          "Dinner",
          "Dinner",
          "Dinner",
          "Dinner",
          "Dinner",
          "Dinner",
          "Dinner",
          "Dinner",
          "Dinner",
          "Dinner",
          "Dinner",
          "Dinner",
          "Dinner",
          "Dinner",
          "Dinner",
          "Dinner",
          "Dinner",
          "Dinner",
          "Dinner",
          "Dinner",
          "Dinner",
          "Dinner",
          "Dinner",
          "Dinner",
          "Lunch",
          "Lunch",
          "Lunch",
          "Lunch",
          "Lunch",
          "Lunch",
          "Lunch",
          "Lunch",
          "Lunch",
          "Lunch",
          "Lunch",
          "Lunch",
          "Lunch",
          "Lunch",
          "Lunch",
          "Lunch",
          "Lunch",
          "Lunch",
          "Lunch",
          "Lunch",
          "Lunch",
          "Lunch",
          "Lunch",
          "Lunch",
          "Lunch",
          "Lunch",
          "Lunch",
          "Lunch",
          "Lunch",
          "Lunch",
          "Lunch",
          "Lunch",
          "Lunch",
          "Dinner",
          "Dinner",
          "Dinner",
          "Dinner",
          "Dinner",
          "Dinner",
          "Dinner",
          "Dinner",
          "Dinner",
          "Dinner",
          "Dinner",
          "Dinner",
          "Dinner",
          "Dinner",
          "Dinner",
          "Dinner",
          "Dinner",
          "Dinner",
          "Dinner",
          "Dinner",
          "Dinner",
          "Dinner",
          "Dinner",
          "Dinner",
          "Dinner",
          "Dinner",
          "Dinner",
          "Dinner",
          "Dinner",
          "Dinner",
          "Dinner",
          "Dinner",
          "Dinner",
          "Dinner",
          "Dinner",
          "Dinner",
          "Dinner",
          "Dinner",
          "Dinner",
          "Dinner",
          "Dinner",
          "Lunch",
          "Lunch",
          "Lunch",
          "Lunch",
          "Lunch",
          "Lunch",
          "Lunch",
          "Lunch",
          "Lunch",
          "Lunch",
          "Lunch",
          "Lunch",
          "Lunch",
          "Lunch",
          "Lunch",
          "Dinner",
          "Dinner",
          "Dinner",
          "Dinner",
          "Dinner",
          "Dinner",
          "Dinner",
          "Dinner",
          "Dinner",
          "Dinner",
          "Dinner",
          "Dinner",
          "Dinner",
          "Dinner",
          "Lunch",
          "Lunch",
          "Lunch",
          "Lunch",
          "Lunch",
          "Lunch",
          "Lunch",
          "Dinner",
          "Dinner",
          "Dinner",
          "Dinner",
          "Dinner",
          "Dinner",
          "Dinner",
          "Dinner",
          "Dinner",
          "Dinner",
          "Dinner",
          "Dinner",
          "Dinner",
          "Dinner",
          "Dinner",
          "Dinner",
          "Dinner"
         ],
         "xaxis": "x2",
         "yaxis": "y2"
        },
        {
         "alignmentgroup": "True",
         "boxpoints": "all",
         "fillcolor": "rgba(255,255,255,0)",
         "hoveron": "points",
         "hovertemplate": "tip=%{x}<extra></extra>",
         "legendgroup": "",
         "line": {
          "color": "rgba(255,255,255,0)"
         },
         "marker": {
          "color": "#000001"
         },
         "name": "",
         "offsetgroup": "",
         "orientation": "h",
         "pointpos": 0,
         "showlegend": false,
         "type": "box",
         "x": [
          1.01,
          1.66,
          3.5,
          3.31,
          3.61,
          4.71,
          2,
          3.12,
          1.96,
          3.23,
          1.71,
          5,
          1.57,
          3,
          3.02,
          3.92,
          1.67,
          3.71,
          3.5,
          3.35,
          4.08,
          2.75,
          2.23,
          7.58,
          3.18,
          2.34,
          2,
          2,
          4.3,
          3,
          1.45,
          2.5,
          3,
          2.45,
          3.27,
          3.6,
          2,
          3.07,
          2.31,
          5,
          2.24,
          2.54,
          3.06,
          1.32,
          5.6,
          3,
          5,
          6,
          2.05,
          3,
          2.5,
          2.6,
          5.2,
          1.56,
          4.34,
          3.51,
          3,
          1.5,
          1.76,
          6.73,
          3.21,
          2,
          1.98,
          3.76,
          2.64,
          3.15,
          2.47,
          1,
          2.01,
          2.09,
          1.97,
          3,
          3.14,
          5,
          2.2,
          1.25,
          3.08,
          4,
          3,
          2.71,
          3,
          3.4,
          1.83,
          5,
          2.03,
          5.17,
          2,
          4,
          5.85,
          3,
          3,
          3.5,
          1,
          4.3,
          3.25,
          4.73,
          4,
          1.5,
          3,
          1.5,
          2.5,
          3,
          2.5,
          3.48,
          4.08,
          1.64,
          4.06,
          4.29,
          3.76,
          4,
          3,
          1,
          4,
          2.55,
          4,
          3.5,
          5.07,
          1.5,
          1.8,
          2.92,
          2.31,
          1.68,
          2.5,
          2,
          2.52,
          4.2,
          1.48,
          2,
          2,
          2.18,
          1.5,
          2.83,
          1.5,
          2,
          3.25,
          1.25,
          2,
          2,
          2,
          2.75,
          3.5,
          6.7,
          5,
          5,
          2.3,
          1.5,
          1.36,
          1.63,
          1.73,
          2,
          2.5,
          2,
          2.74,
          2,
          2,
          5.14,
          5,
          3.75,
          2.61,
          2,
          3.5,
          2.5,
          2,
          2,
          3,
          3.48,
          2.24,
          4.5,
          1.61,
          2,
          10,
          3.16,
          5.15,
          3.18,
          4,
          3.11,
          2,
          2,
          4,
          3.55,
          3.68,
          5.65,
          3.5,
          6.5,
          3,
          5,
          3.5,
          2,
          3.5,
          4,
          1.5,
          4.19,
          2.56,
          2.02,
          4,
          1.44,
          2,
          5,
          2,
          2,
          4,
          2.01,
          2,
          2.5,
          4,
          3.23,
          3.41,
          3,
          2.03,
          2.23,
          2,
          5.16,
          9,
          2.5,
          6.5,
          1.1,
          3,
          1.5,
          1.44,
          3.09,
          2.2,
          3.48,
          1.92,
          3,
          1.58,
          2.5,
          2,
          3,
          2.72,
          2.88,
          2,
          3,
          3.39,
          1.47,
          3,
          1.25,
          1,
          1.17,
          4.67,
          5.92,
          2,
          2,
          1.75,
          3
         ],
         "x0": " ",
         "xaxis": "x3",
         "y0": " ",
         "yaxis": "y3"
        },
        {
         "alignmentgroup": "True",
         "bingroup": "y",
         "histfunc": "sum",
         "hovertemplate": "sum of total_bill=%{x}<br>sex=%{y}<extra></extra>",
         "legendgroup": "",
         "marker": {
          "color": "#000001",
          "pattern": {
           "shape": ""
          }
         },
         "name": "",
         "offsetgroup": "",
         "orientation": "h",
         "showlegend": false,
         "type": "histogram",
         "x": [
          16.99,
          10.34,
          21.01,
          23.68,
          24.59,
          25.29,
          8.77,
          26.88,
          15.04,
          14.78,
          10.27,
          35.26,
          15.42,
          18.43,
          14.83,
          21.58,
          10.33,
          16.29,
          16.97,
          20.65,
          17.92,
          20.29,
          15.77,
          39.42,
          19.82,
          17.81,
          13.37,
          12.69,
          21.7,
          19.65,
          9.55,
          18.35,
          15.06,
          20.69,
          17.78,
          24.06,
          16.31,
          16.93,
          18.69,
          31.27,
          16.04,
          17.46,
          13.94,
          9.68,
          30.4,
          18.29,
          22.23,
          32.4,
          28.55,
          18.04,
          12.54,
          10.29,
          34.81,
          9.94,
          25.56,
          19.49,
          38.01,
          26.41,
          11.24,
          48.27,
          20.29,
          13.81,
          11.02,
          18.29,
          17.59,
          20.08,
          16.45,
          3.07,
          20.23,
          15.01,
          12.02,
          17.07,
          26.86,
          25.28,
          14.73,
          10.51,
          17.92,
          27.2,
          22.76,
          17.29,
          19.44,
          16.66,
          10.07,
          32.68,
          15.98,
          34.83,
          13.03,
          18.28,
          24.71,
          21.16,
          28.97,
          22.49,
          5.75,
          16.32,
          22.75,
          40.17,
          27.28,
          12.03,
          21.01,
          12.46,
          11.35,
          15.38,
          44.3,
          22.42,
          20.92,
          15.36,
          20.49,
          25.21,
          18.24,
          14.31,
          14,
          7.25,
          38.07,
          23.95,
          25.71,
          17.31,
          29.93,
          10.65,
          12.43,
          24.08,
          11.69,
          13.42,
          14.26,
          15.95,
          12.48,
          29.8,
          8.52,
          14.52,
          11.38,
          22.82,
          19.08,
          20.27,
          11.17,
          12.26,
          18.26,
          8.51,
          10.33,
          14.15,
          16,
          13.16,
          17.47,
          34.3,
          41.19,
          27.05,
          16.43,
          8.35,
          18.64,
          11.87,
          9.78,
          7.51,
          14.07,
          13.13,
          17.26,
          24.55,
          19.77,
          29.85,
          48.17,
          25,
          13.39,
          16.49,
          21.5,
          12.66,
          16.21,
          13.81,
          17.51,
          24.52,
          20.76,
          31.71,
          10.59,
          10.63,
          50.81,
          15.81,
          7.25,
          31.85,
          16.82,
          32.9,
          17.89,
          14.48,
          9.6,
          34.63,
          34.65,
          23.33,
          45.35,
          23.17,
          40.55,
          20.69,
          20.9,
          30.46,
          18.15,
          23.1,
          15.69,
          19.81,
          28.44,
          15.48,
          16.58,
          7.56,
          10.34,
          43.11,
          13,
          13.51,
          18.71,
          12.74,
          13,
          16.4,
          20.53,
          16.47,
          26.59,
          38.73,
          24.27,
          12.76,
          30.06,
          25.89,
          48.33,
          13.27,
          28.17,
          12.9,
          28.15,
          11.59,
          7.74,
          30.14,
          12.16,
          13.42,
          8.58,
          15.98,
          13.42,
          16.27,
          10.09,
          20.45,
          13.28,
          22.12,
          24.01,
          15.69,
          11.61,
          10.77,
          15.53,
          10.07,
          12.6,
          32.83,
          35.83,
          29.03,
          27.18,
          22.67,
          17.82,
          18.78
         ],
         "xaxis": "x4",
         "y": [
          "Female",
          "Male",
          "Male",
          "Male",
          "Female",
          "Male",
          "Male",
          "Male",
          "Male",
          "Male",
          "Male",
          "Female",
          "Male",
          "Male",
          "Female",
          "Male",
          "Female",
          "Male",
          "Female",
          "Male",
          "Male",
          "Female",
          "Female",
          "Male",
          "Male",
          "Male",
          "Male",
          "Male",
          "Male",
          "Female",
          "Male",
          "Male",
          "Female",
          "Female",
          "Male",
          "Male",
          "Male",
          "Female",
          "Male",
          "Male",
          "Male",
          "Male",
          "Male",
          "Male",
          "Male",
          "Male",
          "Male",
          "Male",
          "Male",
          "Male",
          "Male",
          "Female",
          "Female",
          "Male",
          "Male",
          "Male",
          "Male",
          "Female",
          "Male",
          "Male",
          "Male",
          "Male",
          "Male",
          "Male",
          "Male",
          "Male",
          "Female",
          "Female",
          "Male",
          "Male",
          "Male",
          "Female",
          "Female",
          "Female",
          "Female",
          "Male",
          "Male",
          "Male",
          "Male",
          "Male",
          "Male",
          "Male",
          "Female",
          "Male",
          "Male",
          "Female",
          "Male",
          "Male",
          "Male",
          "Male",
          "Male",
          "Male",
          "Female",
          "Female",
          "Female",
          "Male",
          "Male",
          "Male",
          "Male",
          "Male",
          "Female",
          "Female",
          "Female",
          "Female",
          "Female",
          "Male",
          "Male",
          "Male",
          "Male",
          "Female",
          "Male",
          "Female",
          "Male",
          "Male",
          "Female",
          "Female",
          "Male",
          "Female",
          "Female",
          "Female",
          "Male",
          "Female",
          "Male",
          "Male",
          "Female",
          "Female",
          "Male",
          "Female",
          "Female",
          "Male",
          "Male",
          "Female",
          "Female",
          "Female",
          "Female",
          "Female",
          "Female",
          "Female",
          "Male",
          "Female",
          "Female",
          "Male",
          "Male",
          "Female",
          "Female",
          "Female",
          "Female",
          "Female",
          "Male",
          "Male",
          "Male",
          "Male",
          "Male",
          "Male",
          "Male",
          "Female",
          "Male",
          "Female",
          "Female",
          "Male",
          "Male",
          "Male",
          "Female",
          "Male",
          "Female",
          "Male",
          "Male",
          "Male",
          "Female",
          "Female",
          "Male",
          "Male",
          "Male",
          "Male",
          "Male",
          "Male",
          "Male",
          "Male",
          "Female",
          "Male",
          "Male",
          "Male",
          "Male",
          "Male",
          "Male",
          "Male",
          "Female",
          "Male",
          "Female",
          "Male",
          "Male",
          "Female",
          "Male",
          "Male",
          "Male",
          "Male",
          "Male",
          "Female",
          "Female",
          "Male",
          "Male",
          "Female",
          "Female",
          "Female",
          "Male",
          "Female",
          "Male",
          "Male",
          "Male",
          "Female",
          "Male",
          "Male",
          "Male",
          "Female",
          "Female",
          "Female",
          "Male",
          "Male",
          "Male",
          "Female",
          "Male",
          "Female",
          "Male",
          "Female",
          "Male",
          "Female",
          "Female",
          "Male",
          "Male",
          "Female",
          "Male",
          "Male",
          "Male",
          "Male",
          "Male",
          "Male",
          "Male",
          "Male",
          "Female",
          "Male",
          "Female",
          "Male",
          "Male",
          "Female"
         ],
         "yaxis": "y4"
        }
       ],
       "layout": {
        "autosize": true,
        "template": {
         "data": {
          "candlestick": [
           {
            "decreasing": {
             "line": {
              "color": "#000033"
             }
            },
            "increasing": {
             "line": {
              "color": "#000032"
             }
            },
            "type": "candlestick"
           }
          ],
          "contour": [
           {
            "colorscale": [
             [
              0,
              "#000011"
             ],
             [
              0.1111111111111111,
              "#000012"
             ],
             [
              0.2222222222222222,
              "#000013"
             ],
             [
              0.3333333333333333,
              "#000014"
             ],
             [
              0.4444444444444444,
              "#000015"
             ],
             [
              0.5555555555555556,
              "#000016"
             ],
             [
              0.6666666666666666,
              "#000017"
             ],
             [
              0.7777777777777778,
              "#000018"
             ],
             [
              0.8888888888888888,
              "#000019"
             ],
             [
              1,
              "#000020"
             ]
            ],
            "type": "contour"
           }
          ],
          "contourcarpet": [
           {
            "colorscale": [
             [
              0,
              "#000011"
             ],
             [
              0.1111111111111111,
              "#000012"
             ],
             [
              0.2222222222222222,
              "#000013"
             ],
             [
              0.3333333333333333,
              "#000014"
             ],
             [
              0.4444444444444444,
              "#000015"
             ],
             [
              0.5555555555555556,
              "#000016"
             ],
             [
              0.6666666666666666,
              "#000017"
             ],
             [
              0.7777777777777778,
              "#000018"
             ],
             [
              0.8888888888888888,
              "#000019"
             ],
             [
              1,
              "#000020"
             ]
            ],
            "type": "contourcarpet"
           }
          ],
          "heatmap": [
           {
            "colorscale": [
             [
              0,
              "#000011"
             ],
             [
              0.1111111111111111,
              "#000012"
             ],
             [
              0.2222222222222222,
              "#000013"
             ],
             [
              0.3333333333333333,
              "#000014"
             ],
             [
              0.4444444444444444,
              "#000015"
             ],
             [
              0.5555555555555556,
              "#000016"
             ],
             [
              0.6666666666666666,
              "#000017"
             ],
             [
              0.7777777777777778,
              "#000018"
             ],
             [
              0.8888888888888888,
              "#000019"
             ],
             [
              1,
              "#000020"
             ]
            ],
            "type": "heatmap"
           }
          ],
          "histogram2d": [
           {
            "colorscale": [
             [
              0,
              "#000011"
             ],
             [
              0.1111111111111111,
              "#000012"
             ],
             [
              0.2222222222222222,
              "#000013"
             ],
             [
              0.3333333333333333,
              "#000014"
             ],
             [
              0.4444444444444444,
              "#000015"
             ],
             [
              0.5555555555555556,
              "#000016"
             ],
             [
              0.6666666666666666,
              "#000017"
             ],
             [
              0.7777777777777778,
              "#000018"
             ],
             [
              0.8888888888888888,
              "#000019"
             ],
             [
              1,
              "#000020"
             ]
            ],
            "type": "histogram2d"
           }
          ],
          "icicle": [
           {
            "textfont": {
             "color": "white"
            },
            "type": "icicle"
           }
          ],
          "sankey": [
           {
            "textfont": {
             "color": "#000036"
            },
            "type": "sankey"
           }
          ],
          "scatter": [
           {
            "marker": {
             "line": {
              "width": 0
             }
            },
            "type": "scatter"
           }
          ],
          "table": [
           {
            "cells": {
             "fill": {
              "color": "#000038"
             },
             "font": {
              "color": "#000037"
             },
             "line": {
              "color": "#000039"
             }
            },
            "header": {
             "fill": {
              "color": "#000040"
             },
             "font": {
              "color": "#000036"
             },
             "line": {
              "color": "#000039"
             }
            },
            "type": "table"
           }
          ],
          "waterfall": [
           {
            "connector": {
             "line": {
              "color": "#000036",
              "width": 2
             }
            },
            "decreasing": {
             "marker": {
              "color": "#000033"
             }
            },
            "increasing": {
             "marker": {
              "color": "#000032"
             }
            },
            "totals": {
             "marker": {
              "color": "#000034"
             }
            },
            "type": "waterfall"
           }
          ]
         },
         "layout": {
          "coloraxis": {
           "colorscale": [
            [
             0,
             "#000011"
            ],
            [
             0.1111111111111111,
             "#000012"
            ],
            [
             0.2222222222222222,
             "#000013"
            ],
            [
             0.3333333333333333,
             "#000014"
            ],
            [
             0.4444444444444444,
             "#000015"
            ],
            [
             0.5555555555555556,
             "#000016"
            ],
            [
             0.6666666666666666,
             "#000017"
            ],
            [
             0.7777777777777778,
             "#000018"
            ],
            [
             0.8888888888888888,
             "#000019"
            ],
            [
             1,
             "#000020"
            ]
           ]
          },
          "colorscale": {
           "diverging": [
            [
             0,
             "#000021"
            ],
            [
             0.1,
             "#000022"
            ],
            [
             0.2,
             "#000023"
            ],
            [
             0.3,
             "#000024"
            ],
            [
             0.4,
             "#000025"
            ],
            [
             0.5,
             "#000026"
            ],
            [
             0.6,
             "#000027"
            ],
            [
             0.7,
             "#000028"
            ],
            [
             0.8,
             "#000029"
            ],
            [
             0.9,
             "#000030"
            ],
            [
             1,
             "#000031"
            ]
           ],
           "sequential": [
            [
             0,
             "#000011"
            ],
            [
             0.1111111111111111,
             "#000012"
            ],
            [
             0.2222222222222222,
             "#000013"
            ],
            [
             0.3333333333333333,
             "#000014"
            ],
            [
             0.4444444444444444,
             "#000015"
            ],
            [
             0.5555555555555556,
             "#000016"
            ],
            [
             0.6666666666666666,
             "#000017"
            ],
            [
             0.7777777777777778,
             "#000018"
            ],
            [
             0.8888888888888888,
             "#000019"
            ],
            [
             1,
             "#000020"
            ]
           ],
           "sequentialminus": [
            [
             0,
             "#000011"
            ],
            [
             0.1111111111111111,
             "#000012"
            ],
            [
             0.2222222222222222,
             "#000013"
            ],
            [
             0.3333333333333333,
             "#000014"
            ],
            [
             0.4444444444444444,
             "#000015"
            ],
            [
             0.5555555555555556,
             "#000016"
            ],
            [
             0.6666666666666666,
             "#000017"
            ],
            [
             0.7777777777777778,
             "#000018"
            ],
            [
             0.8888888888888888,
             "#000019"
            ],
            [
             1,
             "#000020"
            ]
           ]
          },
          "colorway": [
           "#000001",
           "#000002",
           "#000003",
           "#000004",
           "#000005",
           "#000006",
           "#000007",
           "#000008",
           "#000009",
           "#000010"
          ]
         }
        },
        "xaxis": {
         "anchor": "y",
         "autorange": true,
         "domain": [
          0,
          0.45
         ],
         "range": [
          2,
          52
         ],
         "type": "linear"
        },
        "xaxis2": {
         "anchor": "y2",
         "autorange": true,
         "domain": [
          0.55,
          1
         ],
         "range": [
          -0.5,
          1.5
         ],
         "type": "category"
        },
        "xaxis3": {
         "anchor": "y3",
         "autorange": true,
         "domain": [
          0,
          0.45
         ],
         "range": [
          0.5,
          10.5
         ],
         "type": "linear"
        },
        "xaxis4": {
         "anchor": "y4",
         "autorange": true,
         "domain": [
          0.55,
          1
         ],
         "range": [
          0,
          3428.231578947371
         ],
         "type": "linear"
        },
        "yaxis": {
         "anchor": "x",
         "autorange": true,
         "domain": [
          0.575,
          1
         ],
         "range": [
          0,
          33.68421052631579
         ]
        },
        "yaxis2": {
         "anchor": "x2",
         "autorange": true,
         "domain": [
          0.575,
          1
         ],
         "range": [
          0,
          185.26315789473685
         ]
        },
        "yaxis3": {
         "anchor": "x3",
         "autorange": true,
         "domain": [
          0,
          0.425
         ],
         "range": [
          -0.5,
          0.5
         ],
         "type": "category"
        },
        "yaxis4": {
         "anchor": "x4",
         "autorange": true,
         "domain": [
          0,
          0.425
         ],
         "range": [
          -0.5,
          1.5
         ],
         "type": "category"
        }
       }
      },
      "image/png": "[encoded data removed]",
      "text/html": [
       "<div>                            <div id=\"33981c26-480a-40a1-b36a-8f502c6f6d6c\" class=\"plotly-graph-div\" style=\"height:525px; width:100%;\"></div>            <script type=\"text/javascript\">                require([\"plotly\"], function(Plotly) {                    window.PLOTLYENV=window.PLOTLYENV || {};                                    if (document.getElementById(\"33981c26-480a-40a1-b36a-8f502c6f6d6c\")) {                    Plotly.newPlot(                        \"33981c26-480a-40a1-b36a-8f502c6f6d6c\",                        [{\"alignmentgroup\":\"True\",\"bingroup\":\"x\",\"hovertemplate\":\"total_bill=%{x}\\u003cbr\\u003ecount=%{y}\\u003cextra\\u003e\\u003c\\u002fextra\\u003e\",\"legendgroup\":\"\",\"marker\":{\"color\":\"#000001\",\"pattern\":{\"shape\":\"\"}},\"name\":\"\",\"offsetgroup\":\"\",\"orientation\":\"v\",\"showlegend\":false,\"x\":[16.99,10.34,21.01,23.68,24.59,25.29,8.77,26.88,15.04,14.78,10.27,35.26,15.42,18.43,14.83,21.58,10.33,16.29,16.97,20.65,17.92,20.29,15.77,39.42,19.82,17.81,13.37,12.69,21.7,19.65,9.55,18.35,15.06,20.69,17.78,24.06,16.31,16.93,18.69,31.27,16.04,17.46,13.94,9.68,30.4,18.29,22.23,32.4,28.55,18.04,12.54,10.29,34.81,9.94,25.56,19.49,38.01,26.41,11.24,48.27,20.29,13.81,11.02,18.29,17.59,20.08,16.45,3.07,20.23,15.01,12.02,17.07,26.86,25.28,14.73,10.51,17.92,27.2,22.76,17.29,19.44,16.66,10.07,32.68,15.98,34.83,13.03,18.28,24.71,21.16,28.97,22.49,5.75,16.32,22.75,40.17,27.28,12.03,21.01,12.46,11.35,15.38,44.3,22.42,20.92,15.36,20.49,25.21,18.24,14.31,14.0,7.25,38.07,23.95,25.71,17.31,29.93,10.65,12.43,24.08,11.69,13.42,14.26,15.95,12.48,29.8,8.52,14.52,11.38,22.82,19.08,20.27,11.17,12.26,18.26,8.51,10.33,14.15,16.0,13.16,17.47,34.3,41.19,27.05,16.43,8.35,18.64,11.87,9.78,7.51,14.07,13.13,17.26,24.55,19.77,29.85,48.17,25.0,13.39,16.49,21.5,12.66,16.21,13.81,17.51,24.52,20.76,31.71,10.59,10.63,50.81,15.81,7.25,31.85,16.82,32.9,17.89,14.48,9.6,34.63,34.65,23.33,45.35,23.17,40.55,20.69,20.9,30.46,18.15,23.1,15.69,19.81,28.44,15.48,16.58,7.56,10.34,43.11,13.0,13.51,18.71,12.74,13.0,16.4,20.53,16.47,26.59,38.73,24.27,12.76,30.06,25.89,48.33,13.27,28.17,12.9,28.15,11.59,7.74,30.14,12.16,13.42,8.58,15.98,13.42,16.27,10.09,20.45,13.28,22.12,24.01,15.69,11.61,10.77,15.53,10.07,12.6,32.83,35.83,29.03,27.18,22.67,17.82,18.78],\"xaxis\":\"x\",\"yaxis\":\"y\",\"type\":\"histogram\"},{\"alignmentgroup\":\"True\",\"bingroup\":\"x\",\"hovertemplate\":\"time=%{x}\\u003cbr\\u003ecount=%{y}\\u003cextra\\u003e\\u003c\\u002fextra\\u003e\",\"legendgroup\":\"\",\"marker\":{\"color\":\"#000001\",\"pattern\":{\"shape\":\"\"}},\"name\":\"\",\"offsetgroup\":\"\",\"orientation\":\"v\",\"showlegend\":false,\"x\":[\"Dinner\",\"Dinner\",\"Dinner\",\"Dinner\",\"Dinner\",\"Dinner\",\"Dinner\",\"Dinner\",\"Dinner\",\"Dinner\",\"Dinner\",\"Dinner\",\"Dinner\",\"Dinner\",\"Dinner\",\"Dinner\",\"Dinner\",\"Dinner\",\"Dinner\",\"Dinner\",\"Dinner\",\"Dinner\",\"Dinner\",\"Dinner\",\"Dinner\",\"Dinner\",\"Dinner\",\"Dinner\",\"Dinner\",\"Dinner\",\"Dinner\",\"Dinner\",\"Dinner\",\"Dinner\",\"Dinner\",\"Dinner\",\"Dinner\",\"Dinner\",\"Dinner\",\"Dinner\",\"Dinner\",\"Dinner\",\"Dinner\",\"Dinner\",\"Dinner\",\"Dinner\",\"Dinner\",\"Dinner\",\"Dinner\",\"Dinner\",\"Dinner\",\"Dinner\",\"Dinner\",\"Dinner\",\"Dinner\",\"Dinner\",\"Dinner\",\"Dinner\",\"Dinner\",\"Dinner\",\"Dinner\",\"Dinner\",\"Dinner\",\"Dinner\",\"Dinner\",\"Dinner\",\"Dinner\",\"Dinner\",\"Dinner\",\"Dinner\",\"Dinner\",\"Dinner\",\"Dinner\",\"Dinner\",\"Dinner\",\"Dinner\",\"Dinner\",\"Lunch\",\"Lunch\",\"Lunch\",\"Lunch\",\"Lunch\",\"Lunch\",\"Lunch\",\"Lunch\",\"Lunch\",\"Lunch\",\"Lunch\",\"Lunch\",\"Lunch\",\"Dinner\",\"Dinner\",\"Dinner\",\"Dinner\",\"Dinner\",\"Dinner\",\"Dinner\",\"Dinner\",\"Dinner\",\"Dinner\",\"Dinner\",\"Dinner\",\"Dinner\",\"Dinner\",\"Dinner\",\"Dinner\",\"Dinner\",\"Dinner\",\"Dinner\",\"Dinner\",\"Dinner\",\"Dinner\",\"Dinner\",\"Dinner\",\"Dinner\",\"Dinner\",\"Dinner\",\"Lunch\",\"Lunch\",\"Lunch\",\"Lunch\",\"Lunch\",\"Lunch\",\"Lunch\",\"Lunch\",\"Lunch\",\"Lunch\",\"Lunch\",\"Lunch\",\"Lunch\",\"Lunch\",\"Lunch\",\"Lunch\",\"Lunch\",\"Lunch\",\"Lunch\",\"Lunch\",\"Lunch\",\"Lunch\",\"Lunch\",\"Lunch\",\"Lunch\",\"Lunch\",\"Lunch\",\"Lunch\",\"Lunch\",\"Lunch\",\"Lunch\",\"Lunch\",\"Lunch\",\"Dinner\",\"Dinner\",\"Dinner\",\"Dinner\",\"Dinner\",\"Dinner\",\"Dinner\",\"Dinner\",\"Dinner\",\"Dinner\",\"Dinner\",\"Dinner\",\"Dinner\",\"Dinner\",\"Dinner\",\"Dinner\",\"Dinner\",\"Dinner\",\"Dinner\",\"Dinner\",\"Dinner\",\"Dinner\",\"Dinner\",\"Dinner\",\"Dinner\",\"Dinner\",\"Dinner\",\"Dinner\",\"Dinner\",\"Dinner\",\"Dinner\",\"Dinner\",\"Dinner\",\"Dinner\",\"Dinner\",\"Dinner\",\"Dinner\",\"Dinner\",\"Dinner\",\"Dinner\",\"Dinner\",\"Lunch\",\"Lunch\",\"Lunch\",\"Lunch\",\"Lunch\",\"Lunch\",\"Lunch\",\"Lunch\",\"Lunch\",\"Lunch\",\"Lunch\",\"Lunch\",\"Lunch\",\"Lunch\",\"Lunch\",\"Dinner\",\"Dinner\",\"Dinner\",\"Dinner\",\"Dinner\",\"Dinner\",\"Dinner\",\"Dinner\",\"Dinner\",\"Dinner\",\"Dinner\",\"Dinner\",\"Dinner\",\"Dinner\",\"Lunch\",\"Lunch\",\"Lunch\",\"Lunch\",\"Lunch\",\"Lunch\",\"Lunch\",\"Dinner\",\"Dinner\",\"Dinner\",\"Dinner\",\"Dinner\",\"Dinner\",\"Dinner\",\"Dinner\",\"Dinner\",\"Dinner\",\"Dinner\",\"Dinner\",\"Dinner\",\"Dinner\",\"Dinner\",\"Dinner\",\"Dinner\"],\"xaxis\":\"x2\",\"yaxis\":\"y2\",\"type\":\"histogram\"},{\"alignmentgroup\":\"True\",\"boxpoints\":\"all\",\"fillcolor\":\"rgba(255,255,255,0)\",\"hoveron\":\"points\",\"hovertemplate\":\"tip=%{x}\\u003cextra\\u003e\\u003c\\u002fextra\\u003e\",\"legendgroup\":\"\",\"line\":{\"color\":\"rgba(255,255,255,0)\"},\"marker\":{\"color\":\"#000001\"},\"name\":\"\",\"offsetgroup\":\"\",\"orientation\":\"h\",\"pointpos\":0,\"showlegend\":false,\"x\":[1.01,1.66,3.5,3.31,3.61,4.71,2.0,3.12,1.96,3.23,1.71,5.0,1.57,3.0,3.02,3.92,1.67,3.71,3.5,3.35,4.08,2.75,2.23,7.58,3.18,2.34,2.0,2.0,4.3,3.0,1.45,2.5,3.0,2.45,3.27,3.6,2.0,3.07,2.31,5.0,2.24,2.54,3.06,1.32,5.6,3.0,5.0,6.0,2.05,3.0,2.5,2.6,5.2,1.56,4.34,3.51,3.0,1.5,1.76,6.73,3.21,2.0,1.98,3.76,2.64,3.15,2.47,1.0,2.01,2.09,1.97,3.0,3.14,5.0,2.2,1.25,3.08,4.0,3.0,2.71,3.0,3.4,1.83,5.0,2.03,5.17,2.0,4.0,5.85,3.0,3.0,3.5,1.0,4.3,3.25,4.73,4.0,1.5,3.0,1.5,2.5,3.0,2.5,3.48,4.08,1.64,4.06,4.29,3.76,4.0,3.0,1.0,4.0,2.55,4.0,3.5,5.07,1.5,1.8,2.92,2.31,1.68,2.5,2.0,2.52,4.2,1.48,2.0,2.0,2.18,1.5,2.83,1.5,2.0,3.25,1.25,2.0,2.0,2.0,2.75,3.5,6.7,5.0,5.0,2.3,1.5,1.36,1.63,1.73,2.0,2.5,2.0,2.74,2.0,2.0,5.14,5.0,3.75,2.61,2.0,3.5,2.5,2.0,2.0,3.0,3.48,2.24,4.5,1.61,2.0,10.0,3.16,5.15,3.18,4.0,3.11,2.0,2.0,4.0,3.55,3.68,5.65,3.5,6.5,3.0,5.0,3.5,2.0,3.5,4.0,1.5,4.19,2.56,2.02,4.0,1.44,2.0,5.0,2.0,2.0,4.0,2.01,2.0,2.5,4.0,3.23,3.41,3.0,2.03,2.23,2.0,5.16,9.0,2.5,6.5,1.1,3.0,1.5,1.44,3.09,2.2,3.48,1.92,3.0,1.58,2.5,2.0,3.0,2.72,2.88,2.0,3.0,3.39,1.47,3.0,1.25,1.0,1.17,4.67,5.92,2.0,2.0,1.75,3.0],\"x0\":\" \",\"xaxis\":\"x3\",\"y0\":\" \",\"yaxis\":\"y3\",\"type\":\"box\"},{\"alignmentgroup\":\"True\",\"bingroup\":\"y\",\"histfunc\":\"sum\",\"hovertemplate\":\"sum of total_bill=%{x}\\u003cbr\\u003esex=%{y}\\u003cextra\\u003e\\u003c\\u002fextra\\u003e\",\"legendgroup\":\"\",\"marker\":{\"color\":\"#000001\",\"pattern\":{\"shape\":\"\"}},\"name\":\"\",\"offsetgroup\":\"\",\"orientation\":\"h\",\"showlegend\":false,\"x\":[16.99,10.34,21.01,23.68,24.59,25.29,8.77,26.88,15.04,14.78,10.27,35.26,15.42,18.43,14.83,21.58,10.33,16.29,16.97,20.65,17.92,20.29,15.77,39.42,19.82,17.81,13.37,12.69,21.7,19.65,9.55,18.35,15.06,20.69,17.78,24.06,16.31,16.93,18.69,31.27,16.04,17.46,13.94,9.68,30.4,18.29,22.23,32.4,28.55,18.04,12.54,10.29,34.81,9.94,25.56,19.49,38.01,26.41,11.24,48.27,20.29,13.81,11.02,18.29,17.59,20.08,16.45,3.07,20.23,15.01,12.02,17.07,26.86,25.28,14.73,10.51,17.92,27.2,22.76,17.29,19.44,16.66,10.07,32.68,15.98,34.83,13.03,18.28,24.71,21.16,28.97,22.49,5.75,16.32,22.75,40.17,27.28,12.03,21.01,12.46,11.35,15.38,44.3,22.42,20.92,15.36,20.49,25.21,18.24,14.31,14.0,7.25,38.07,23.95,25.71,17.31,29.93,10.65,12.43,24.08,11.69,13.42,14.26,15.95,12.48,29.8,8.52,14.52,11.38,22.82,19.08,20.27,11.17,12.26,18.26,8.51,10.33,14.15,16.0,13.16,17.47,34.3,41.19,27.05,16.43,8.35,18.64,11.87,9.78,7.51,14.07,13.13,17.26,24.55,19.77,29.85,48.17,25.0,13.39,16.49,21.5,12.66,16.21,13.81,17.51,24.52,20.76,31.71,10.59,10.63,50.81,15.81,7.25,31.85,16.82,32.9,17.89,14.48,9.6,34.63,34.65,23.33,45.35,23.17,40.55,20.69,20.9,30.46,18.15,23.1,15.69,19.81,28.44,15.48,16.58,7.56,10.34,43.11,13.0,13.51,18.71,12.74,13.0,16.4,20.53,16.47,26.59,38.73,24.27,12.76,30.06,25.89,48.33,13.27,28.17,12.9,28.15,11.59,7.74,30.14,12.16,13.42,8.58,15.98,13.42,16.27,10.09,20.45,13.28,22.12,24.01,15.69,11.61,10.77,15.53,10.07,12.6,32.83,35.83,29.03,27.18,22.67,17.82,18.78],\"xaxis\":\"x4\",\"y\":[\"Female\",\"Male\",\"Male\",\"Male\",\"Female\",\"Male\",\"Male\",\"Male\",\"Male\",\"Male\",\"Male\",\"Female\",\"Male\",\"Male\",\"Female\",\"Male\",\"Female\",\"Male\",\"Female\",\"Male\",\"Male\",\"Female\",\"Female\",\"Male\",\"Male\",\"Male\",\"Male\",\"Male\",\"Male\",\"Female\",\"Male\",\"Male\",\"Female\",\"Female\",\"Male\",\"Male\",\"Male\",\"Female\",\"Male\",\"Male\",\"Male\",\"Male\",\"Male\",\"Male\",\"Male\",\"Male\",\"Male\",\"Male\",\"Male\",\"Male\",\"Male\",\"Female\",\"Female\",\"Male\",\"Male\",\"Male\",\"Male\",\"Female\",\"Male\",\"Male\",\"Male\",\"Male\",\"Male\",\"Male\",\"Male\",\"Male\",\"Female\",\"Female\",\"Male\",\"Male\",\"Male\",\"Female\",\"Female\",\"Female\",\"Female\",\"Male\",\"Male\",\"Male\",\"Male\",\"Male\",\"Male\",\"Male\",\"Female\",\"Male\",\"Male\",\"Female\",\"Male\",\"Male\",\"Male\",\"Male\",\"Male\",\"Male\",\"Female\",\"Female\",\"Female\",\"Male\",\"Male\",\"Male\",\"Male\",\"Male\",\"Female\",\"Female\",\"Female\",\"Female\",\"Female\",\"Male\",\"Male\",\"Male\",\"Male\",\"Female\",\"Male\",\"Female\",\"Male\",\"Male\",\"Female\",\"Female\",\"Male\",\"Female\",\"Female\",\"Female\",\"Male\",\"Female\",\"Male\",\"Male\",\"Female\",\"Female\",\"Male\",\"Female\",\"Female\",\"Male\",\"Male\",\"Female\",\"Female\",\"Female\",\"Female\",\"Female\",\"Female\",\"Female\",\"Male\",\"Female\",\"Female\",\"Male\",\"Male\",\"Female\",\"Female\",\"Female\",\"Female\",\"Female\",\"Male\",\"Male\",\"Male\",\"Male\",\"Male\",\"Male\",\"Male\",\"Female\",\"Male\",\"Female\",\"Female\",\"Male\",\"Male\",\"Male\",\"Female\",\"Male\",\"Female\",\"Male\",\"Male\",\"Male\",\"Female\",\"Female\",\"Male\",\"Male\",\"Male\",\"Male\",\"Male\",\"Male\",\"Male\",\"Male\",\"Female\",\"Male\",\"Male\",\"Male\",\"Male\",\"Male\",\"Male\",\"Male\",\"Female\",\"Male\",\"Female\",\"Male\",\"Male\",\"Female\",\"Male\",\"Male\",\"Male\",\"Male\",\"Male\",\"Female\",\"Female\",\"Male\",\"Male\",\"Female\",\"Female\",\"Female\",\"Male\",\"Female\",\"Male\",\"Male\",\"Male\",\"Female\",\"Male\",\"Male\",\"Male\",\"Female\",\"Female\",\"Female\",\"Male\",\"Male\",\"Male\",\"Female\",\"Male\",\"Female\",\"Male\",\"Female\",\"Male\",\"Female\",\"Female\",\"Male\",\"Male\",\"Female\",\"Male\",\"Male\",\"Male\",\"Male\",\"Male\",\"Male\",\"Male\",\"Male\",\"Female\",\"Male\",\"Female\",\"Male\",\"Male\",\"Female\"],\"yaxis\":\"y4\",\"type\":\"histogram\"}],                        {\"template\":{\"data\":{\"candlestick\":[{\"decreasing\":{\"line\":{\"color\":\"#000033\"}},\"increasing\":{\"line\":{\"color\":\"#000032\"}},\"type\":\"candlestick\"}],\"contourcarpet\":[{\"colorscale\":[[0.0,\"#000011\"],[0.1111111111111111,\"#000012\"],[0.2222222222222222,\"#000013\"],[0.3333333333333333,\"#000014\"],[0.4444444444444444,\"#000015\"],[0.5555555555555556,\"#000016\"],[0.6666666666666666,\"#000017\"],[0.7777777777777778,\"#000018\"],[0.8888888888888888,\"#000019\"],[1.0,\"#000020\"]],\"type\":\"contourcarpet\"}],\"contour\":[{\"colorscale\":[[0.0,\"#000011\"],[0.1111111111111111,\"#000012\"],[0.2222222222222222,\"#000013\"],[0.3333333333333333,\"#000014\"],[0.4444444444444444,\"#000015\"],[0.5555555555555556,\"#000016\"],[0.6666666666666666,\"#000017\"],[0.7777777777777778,\"#000018\"],[0.8888888888888888,\"#000019\"],[1.0,\"#000020\"]],\"type\":\"contour\"}],\"heatmap\":[{\"colorscale\":[[0.0,\"#000011\"],[0.1111111111111111,\"#000012\"],[0.2222222222222222,\"#000013\"],[0.3333333333333333,\"#000014\"],[0.4444444444444444,\"#000015\"],[0.5555555555555556,\"#000016\"],[0.6666666666666666,\"#000017\"],[0.7777777777777778,\"#000018\"],[0.8888888888888888,\"#000019\"],[1.0,\"#000020\"]],\"type\":\"heatmap\"}],\"histogram2d\":[{\"colorscale\":[[0.0,\"#000011\"],[0.1111111111111111,\"#000012\"],[0.2222222222222222,\"#000013\"],[0.3333333333333333,\"#000014\"],[0.4444444444444444,\"#000015\"],[0.5555555555555556,\"#000016\"],[0.6666666666666666,\"#000017\"],[0.7777777777777778,\"#000018\"],[0.8888888888888888,\"#000019\"],[1.0,\"#000020\"]],\"type\":\"histogram2d\"}],\"icicle\":[{\"textfont\":{\"color\":\"white\"},\"type\":\"icicle\"}],\"sankey\":[{\"textfont\":{\"color\":\"#000036\"},\"type\":\"sankey\"}],\"scatter\":[{\"marker\":{\"line\":{\"width\":0}},\"type\":\"scatter\"}],\"table\":[{\"cells\":{\"fill\":{\"color\":\"#000038\"},\"font\":{\"color\":\"#000037\"},\"line\":{\"color\":\"#000039\"}},\"header\":{\"fill\":{\"color\":\"#000040\"},\"font\":{\"color\":\"#000036\"},\"line\":{\"color\":\"#000039\"}},\"type\":\"table\"}],\"waterfall\":[{\"connector\":{\"line\":{\"color\":\"#000036\",\"width\":2}},\"decreasing\":{\"marker\":{\"color\":\"#000033\"}},\"increasing\":{\"marker\":{\"color\":\"#000032\"}},\"totals\":{\"marker\":{\"color\":\"#000034\"}},\"type\":\"waterfall\"}]},\"layout\":{\"coloraxis\":{\"colorscale\":[[0.0,\"#000011\"],[0.1111111111111111,\"#000012\"],[0.2222222222222222,\"#000013\"],[0.3333333333333333,\"#000014\"],[0.4444444444444444,\"#000015\"],[0.5555555555555556,\"#000016\"],[0.6666666666666666,\"#000017\"],[0.7777777777777778,\"#000018\"],[0.8888888888888888,\"#000019\"],[1.0,\"#000020\"]]},\"colorscale\":{\"diverging\":[[0.0,\"#000021\"],[0.1,\"#000022\"],[0.2,\"#000023\"],[0.3,\"#000024\"],[0.4,\"#000025\"],[0.5,\"#000026\"],[0.6,\"#000027\"],[0.7,\"#000028\"],[0.8,\"#000029\"],[0.9,\"#000030\"],[1.0,\"#000031\"]],\"sequential\":[[0.0,\"#000011\"],[0.1111111111111111,\"#000012\"],[0.2222222222222222,\"#000013\"],[0.3333333333333333,\"#000014\"],[0.4444444444444444,\"#000015\"],[0.5555555555555556,\"#000016\"],[0.6666666666666666,\"#000017\"],[0.7777777777777778,\"#000018\"],[0.8888888888888888,\"#000019\"],[1.0,\"#000020\"]],\"sequentialminus\":[[0.0,\"#000011\"],[0.1111111111111111,\"#000012\"],[0.2222222222222222,\"#000013\"],[0.3333333333333333,\"#000014\"],[0.4444444444444444,\"#000015\"],[0.5555555555555556,\"#000016\"],[0.6666666666666666,\"#000017\"],[0.7777777777777778,\"#000018\"],[0.8888888888888888,\"#000019\"],[1.0,\"#000020\"]]},\"colorway\":[\"#000001\",\"#000002\",\"#000003\",\"#000004\",\"#000005\",\"#000006\",\"#000007\",\"#000008\",\"#000009\",\"#000010\"]}},\"xaxis\":{\"anchor\":\"y\",\"domain\":[0.0,0.45]},\"yaxis\":{\"anchor\":\"x\",\"domain\":[0.575,1.0]},\"xaxis2\":{\"anchor\":\"y2\",\"domain\":[0.55,1.0]},\"yaxis2\":{\"anchor\":\"x2\",\"domain\":[0.575,1.0]},\"xaxis3\":{\"anchor\":\"y3\",\"domain\":[0.0,0.45]},\"yaxis3\":{\"anchor\":\"x3\",\"domain\":[0.0,0.425]},\"xaxis4\":{\"anchor\":\"y4\",\"domain\":[0.55,1.0]},\"yaxis4\":{\"anchor\":\"x4\",\"domain\":[0.0,0.425]}},                        {\"responsive\": true}                    ).then(function(){\n",
       "                            \n",
       "var gd = document.getElementById('33981c26-480a-40a1-b36a-8f502c6f6d6c');\n",
       "var x = new MutationObserver(function (mutations, observer) {{\n",
       "        var display = window.getComputedStyle(gd).display;\n",
       "        if (!display || display === 'none') {{\n",
       "            console.log([gd, 'removed!']);\n",
       "            Plotly.purge(gd);\n",
       "            observer.disconnect();\n",
       "        }}\n",
       "}});\n",
       "\n",
       "// Listen for the removal of the full notebook cells\n",
       "var notebookContainer = gd.closest('#notebook-container');\n",
       "if (notebookContainer) {{\n",
       "    x.observe(notebookContainer, {childList: true});\n",
       "}}\n",
       "\n",
       "// Listen for the clearing of the current output cell\n",
       "var outputEl = gd.closest('.output');\n",
       "if (outputEl) {{\n",
       "    x.observe(outputEl, {childList: true});\n",
       "}}\n",
       "\n",
       "                        })                };                });            </script>        </div>"
      ]
     },
     "metadata": {},
     "output_type": "display_data"
    }
   ],
   "source": [
    "fig = make_subplots(rows=2 , cols=2)\n",
    "\n",
    "fig.add_trace(px.histogram(data_frame=df , x = 'total_bill').data[0] , row = 1 , col = 1 )\n",
    "fig.add_trace(px.histogram(data_frame=df , x = 'time').data[0] , row = 1 , col = 2 )\n",
    "fig.add_trace(px.strip(data_frame=df , x = 'tip').data[0] , row = 2 , col = 1 )\n",
    "fig.add_trace(px.histogram(data_frame=df , y = 'sex' , x='total_bill').data[0] , row = 2 , col = 2 )\n",
    "fig.show()"
   ]
  },
  {
   "cell_type": "markdown",
   "id": "b82e3951",
   "metadata": {},
   "source": [
    "### SubPlot with streamlit "
   ]
  },
  {
   "cell_type": "code",
   "execution_count": 98,
   "id": "1a1962f0",
   "metadata": {},
   "outputs": [
    {
     "name": "stdout",
     "output_type": "stream",
     "text": [
      "Overwriting app10.py\n"
     ]
    }
   ],
   "source": [
    "# import libraries\n",
    "import streamlit as st\n",
    "import pandas as pd \n",
    "import plotly.express as px \n",
    "from plotly.subplots import make_subplots\n",
    "st.set_page_config(layout='wide')\n",
    "\n",
    "# read data\n",
    "df = px.data.tips()\n",
    "\n",
    "# make your columns \n",
    "fig = make_subplots(rows=2 , cols=2)\n",
    "# start put charts in each column \n",
    "\n",
    "\n",
    "fig.add_trace(px.histogram(data_frame=df , x = 'total_bill').data[0] , row = 1 , col = 1 )\n",
    "fig.add_trace(px.histogram(data_frame=df , x = 'time').data[0] , row = 1 , col = 2 )\n",
    "fig.add_trace(px.strip(data_frame=df , x = 'tip').data[0] , row = 2 , col = 1 )\n",
    "fig.add_trace(px.histogram(data_frame=df , y = 'sex' , x='total_bill').data[0] , row = 2 , col = 2 )\n",
    "fig.show()\n",
    "\n",
    "st.plotly_chart(fig)\n"
   ]
  },
  {
   "cell_type": "code",
   "execution_count": null,
   "id": "58727d5b-1d0c-4674-9fc4-f41c042917f5",
   "metadata": {},
   "outputs": [],
   "source": []
  },
  {
   "cell_type": "code",
   "execution_count": 121,
   "id": "e43c1aa3-5a8b-4b94-855b-773299485baf",
   "metadata": {},
   "outputs": [
    {
     "name": "stdout",
     "output_type": "stream",
     "text": [
      "Overwriting app12.py\n"
     ]
    }
   ],
   "source": [
    "%%writefile app12.py\n",
    "\n",
    "# import libraries\n",
    "import streamlit as st\n",
    "import pandas as pd \n",
    "import plotly.express as px \n",
    "from plotly.subplots import make_subplots\n",
    "st.set_page_config(layout='wide')\n",
    "\n",
    "# read data\n",
    "df = px.data.tips()\n",
    "\n",
    "day = st.sidebar.radio('select day' , options=df['day'].unique())\n",
    "\n",
    "df = df[df['day'] == day]\n",
    "\n",
    "# make your columns \n",
    "fig = make_subplots(rows=2 , cols=2)\n",
    "# start put charts in each column \n",
    "\n",
    "\n",
    "fig.add_trace(px.histogram(data_frame=df , x = 'total_bill').data[0] , row = 1 , col = 1 )\n",
    "fig.add_trace(px.histogram(data_frame=df , x = 'time').data[0] , row = 1 , col = 2 )\n",
    "fig.add_trace(px.strip(data_frame=df , x = 'tip').data[0] , row = 2 , col = 1 )\n",
    "fig.add_trace(px.histogram(data_frame=df , y = 'sex' , x='total_bill').data[0] , row = 2 , col = 2 )\n",
    "\n",
    "\n",
    "st.plotly_chart(fig)\n"
   ]
  },
  {
   "cell_type": "code",
   "execution_count": 99,
   "id": "44ce2ecb",
   "metadata": {},
   "outputs": [
    {
     "name": "stdout",
     "output_type": "stream",
     "text": [
      "^C\n"
     ]
    }
   ],
   "source": [
    "! streamlit run app10.py"
   ]
  },
  {
   "cell_type": "markdown",
   "id": "7106d2b3",
   "metadata": {},
   "source": [
    "### Columns "
   ]
  },
  {
   "cell_type": "code",
   "execution_count": 125,
   "id": "3c8765df",
   "metadata": {},
   "outputs": [
    {
     "name": "stdout",
     "output_type": "stream",
     "text": [
      "Overwriting app12.py\n"
     ]
    }
   ],
   "source": [
    "%%writefile app12.py\n",
    "import streamlit as st\n",
    "import pandas as pd \n",
    "import plotly.express as px \n",
    "from plotly.subplots import make_subplots\n",
    "st.set_page_config(layout='wide')\n",
    "\n",
    "\n",
    "df = px.data.tips()\n",
    "\n",
    "\n",
    "col1 , col2 , col3 = st.columns(3)\n",
    "\n",
    "\n",
    "with col1 :\n",
    "    st.plotly_chart(px.histogram(data_frame=df , x ='total_bill'))\n",
    "    st.plotly_chart(px.box(data_frame=df , x ='total_bill'))\n",
    "\n",
    "with col2 :\n",
    "    st.plotly_chart(px.strip(data_frame=df , x ='tip'))\n",
    "    st.plotly_chart(px.violin(data_frame=df ,x = 'tip'))\n",
    "\n",
    "\n",
    "with col3 :\n",
    "    st.plotly_chart(px.histogram(data_frame=df , x ='sex'))\n",
    "    st.plotly_chart(px.pie(data_frame=df , names = 'time'))\n",
    "\n"
   ]
  },
  {
   "cell_type": "code",
   "execution_count": 129,
   "id": "7839f0cb-17a6-4a29-bf3f-6b0588750143",
   "metadata": {},
   "outputs": [
    {
     "name": "stdout",
     "output_type": "stream",
     "text": [
      "Overwriting app12.py\n"
     ]
    }
   ],
   "source": [
    "%%writefile app12.py\n",
    "import streamlit as st\n",
    "import pandas as pd \n",
    "import plotly.express as px \n",
    "from plotly.subplots import make_subplots\n",
    "st.set_page_config(layout='wide')\n",
    "\n",
    "\n",
    "df = px.data.tips()\n",
    "\n",
    "\n",
    "col1 , col2 , col3 , col4 = st.columns(4)\n",
    "\n",
    "\n",
    "with col1 :\n",
    "    st.plotly_chart(px.histogram(data_frame=df , x ='total_bill'))\n",
    "    st.plotly_chart(px.box(data_frame=df , x ='total_bill'))\n",
    "\n",
    "with col2 :\n",
    "    st.plotly_chart(px.strip(data_frame=df , x ='tip'))\n",
    "    st.plotly_chart(px.violin(data_frame=df ,x = 'tip'))\n",
    "\n",
    "\n",
    "with col3 :\n",
    "    st.plotly_chart(px.histogram(data_frame=df , x ='sex'))\n",
    "    st.plotly_chart(px.pie(data_frame=df , names = 'time'))\n",
    "\n",
    "with col4 :\n",
    "\n",
    "    st.plotly_chart(px.histogram(data_frame=df , x ='sex') , key = '1')\n",
    "    st.plotly_chart(px.pie(data_frame=df , names = 'time') , key = '2')\n",
    "    \n",
    "\n"
   ]
  },
  {
   "cell_type": "code",
   "execution_count": 130,
   "id": "abb51ee8",
   "metadata": {},
   "outputs": [
    {
     "name": "stdout",
     "output_type": "stream",
     "text": [
      "^C\n"
     ]
    }
   ],
   "source": [
    "! streamlit run app12.py"
   ]
  },
  {
   "cell_type": "markdown",
   "id": "ed7a6608",
   "metadata": {},
   "source": [
    "### Tabs"
   ]
  },
  {
   "cell_type": "code",
   "execution_count": 141,
   "id": "9876280f",
   "metadata": {},
   "outputs": [
    {
     "name": "stdout",
     "output_type": "stream",
     "text": [
      "Overwriting app13.py\n"
     ]
    }
   ],
   "source": [
    "%%writefile app13.py\n",
    "\n",
    "# import libries \n",
    "import streamlit as st\n",
    "import pandas as pd \n",
    "import plotly.express as px \n",
    "from plotly.subplots import make_subplots\n",
    "st.set_page_config(layout='wide')\n",
    "\n",
    "# read data\n",
    "df = px.data.tips()\n",
    "\n",
    "# make tabs \n",
    "tab1 , tab2 , tab3 = st.tabs(['histogram' , 'box-plot' , 'violin'])\n",
    "time = st.sidebar.radio('select time' , df['time'].unique())\n",
    "# start put charts in each tab \n",
    "df = df[df['time'] == time]\n",
    "with tab1 :\n",
    "\n",
    "    col1 , col2 = st.columns(2)\n",
    "\n",
    "\n",
    "    with col1 :\n",
    "        st.plotly_chart(px.histogram(data_frame=df , x ='total_bill') , key = 1 )\n",
    "        st.plotly_chart(px.box(data_frame=df , x ='total_bill') , key = 2 )\n",
    "    \n",
    "    with col2 :\n",
    "        st.plotly_chart(px.strip(data_frame=df , x ='tip') , key = 3 )\n",
    "        st.plotly_chart(px.violin(data_frame=df ,x = 'tip') , key = 4 )\n",
    "\n",
    "# ------------------------------------------------------------------------------\n",
    "\n",
    "with tab2 :\n",
    "\n",
    "    col1 , col2 = st.columns(2)\n",
    "\n",
    "\n",
    "    with col1 :\n",
    "        st.plotly_chart(px.strip(data_frame=df , x ='tip') , key = 5)\n",
    "        st.plotly_chart(px.box(data_frame=df , x ='tip') , key = 6)\n",
    "    \n",
    "    with col2 :\n",
    "        st.plotly_chart(px.histogram(data_frame=df , x ='tip') , key = 7)\n",
    "        st.plotly_chart(px.violin(data_frame=df ,x = 'tip') , key = 8)\n",
    "\n",
    "\n",
    "with tab3 :\n",
    "\n",
    "    col1 , col2 = st.columns(2)\n",
    "\n",
    "\n",
    "    with col1 :\n",
    "        st.plotly_chart(px.histogram(data_frame=df , x ='sex') , key = 9)\n",
    "        st.plotly_chart(px.box(data_frame=df , x ='total_bill' , y = 'sex') , key = 10)\n",
    "    \n",
    "    with col2 :\n",
    "        st.plotly_chart(px.strip(data_frame=df , x ='tip' , y = 'sex') , key = 11)\n",
    "        st.plotly_chart(px.violin(data_frame=df ,x = 'tip' , y = 'time') , key = 12)\n",
    "\n"
   ]
  },
  {
   "cell_type": "code",
   "execution_count": 142,
   "id": "1d8a425b",
   "metadata": {},
   "outputs": [
    {
     "name": "stdout",
     "output_type": "stream",
     "text": [
      "^C\n"
     ]
    }
   ],
   "source": [
    "! streamlit run app13.py"
   ]
  },
  {
   "cell_type": "code",
   "execution_count": null,
   "id": "e0cd0906-c457-47b3-9b91-d176d4947ad0",
   "metadata": {},
   "outputs": [],
   "source": [
    "%%writefile app13.py\n",
    "\n",
    "# import libries \n",
    "import streamlit as st\n",
    "import pandas as pd \n",
    "import plotly.express as px \n",
    "from plotly.subplots import make_subplots\n",
    "st.set_page_config(layout='wide')\n",
    "\n",
    "# read data\n",
    "df = px.data.tips()\n",
    "\n",
    "# make tabs \n",
    "tab1 , tab2 , tab3 = st.tabs(['histogram' , 'box-plot' , 'violin'])\n",
    "\n",
    "# start put charts in each tab \n",
    "\n",
    "with tab1 :\n",
    "\n",
    "    st.plotly_chart(px.histogram(data_frame=df , x = 'total_bill'))\n",
    "    \n",
    "with tab2 :\n",
    "\n",
    "    st.plotly_chart(px.box(data_frame=df , x = 'tip' , y = 'time'))\n",
    "\n",
    "\n",
    "with tab3 :\n",
    "\n",
    "    st.plotly_chart(px.violin(data_frame=df , x = 'total_bill' , y = 'sex'))\n",
    "\n"
   ]
  },
  {
   "cell_type": "markdown",
   "id": "daf39e8d-826e-4e49-ad5f-3413685e7e19",
   "metadata": {},
   "source": [
    "### Pages \n",
    "* main idea make function for each page (simulate function as page) inside each function write your code , make this function in dict put keys to make user choose from them then call the page the user chosen"
   ]
  },
  {
   "cell_type": "code",
   "execution_count": 143,
   "id": "86fd8dd6",
   "metadata": {},
   "outputs": [
    {
     "name": "stdout",
     "output_type": "stream",
     "text": [
      "Writing app11.py\n"
     ]
    }
   ],
   "source": [
    "%%writefile app11.py\n",
    "import streamlit as st\n",
    "import pandas as pd \n",
    "import plotly.express as px \n",
    "from plotly.subplots import make_subplots\n",
    "st.set_page_config(layout='wide')\n",
    "\n",
    "df = px.data.tips()\n",
    "def page1():\n",
    "\n",
    "    st.write('hello')\n",
    "    st.image('download.png')\n",
    "    \n",
    "\n",
    "def page2():\n",
    "    st.plotly_chart(px.histogram(data_frame=df , x = 'total_bill'))\n",
    "    \n",
    "def page3():\n",
    "\n",
    "    st.write('page3')\n",
    "\n",
    "pgs = {\n",
    "    'histogram' : page1,\n",
    "    'box-plot' : page2,\n",
    "    'violin' : page3\n",
    "}\n",
    "pg = st.sidebar.radio('Navigate pages ' ,options= pgs.keys())\n",
    "\n",
    "pgs[pg]()"
   ]
  },
  {
   "cell_type": "code",
   "execution_count": 144,
   "id": "80d5c5ab",
   "metadata": {},
   "outputs": [
    {
     "name": "stdout",
     "output_type": "stream",
     "text": [
      "^C\n"
     ]
    }
   ],
   "source": [
    "! streamlit run app11.py"
   ]
  },
  {
   "cell_type": "markdown",
   "id": "57a05cb9-bda9-478b-bc00-2e9bde1b71b0",
   "metadata": {},
   "source": [
    "### make three pages with 3 charts"
   ]
  },
  {
   "cell_type": "code",
   "execution_count": 150,
   "id": "dc617c0c",
   "metadata": {},
   "outputs": [
    {
     "name": "stdout",
     "output_type": "stream",
     "text": [
      "Overwriting app11.py\n"
     ]
    }
   ],
   "source": [
    "%%writefile app11.py\n",
    "import streamlit as st\n",
    "import pandas as pd \n",
    "import plotly.express as px \n",
    "\n",
    "st.set_page_config(layout='wide')\n",
    "\n",
    "df = px.data.tips()\n",
    "def page1():\n",
    "\n",
    "    tab1 , tab2 , tab3 = st.tabs(['histogram' , 'box-plot' , 'violin'])\n",
    "\n",
    "    # start put charts in each tab \n",
    "    \n",
    "    with tab1 :\n",
    "    \n",
    "        st.plotly_chart(px.histogram(data_frame=df , x = 'total_bill'))\n",
    "        \n",
    "    with tab2 :\n",
    "    \n",
    "        st.plotly_chart(px.box(data_frame=df , x = 'tip' , y = 'time'))\n",
    "    \n",
    "    \n",
    "    with tab3 :\n",
    "    \n",
    "        st.plotly_chart(px.violin(data_frame=df , x = 'total_bill' , y = 'sex'))\n",
    "    \n",
    "\n",
    "    \n",
    "\n",
    "def page2():\n",
    "    sex = st.sidebar.selectbox('select sex' , df['sex'].unique())\n",
    "    st.plotly_chart(px.histogram(data_frame = df[df['sex'] == sex] , x = 'total_bill'))\n",
    "    \n",
    "def page3():\n",
    "\n",
    "    day = st.sidebar.selectbox('select day' , df['day'].unique())\n",
    "    st.plotly_chart(px.histogram(data_frame = df[df['day'] == day] , x = 'total_bill'))\n",
    "\n",
    "pgs = {\n",
    "    'time' : page1,\n",
    "    'sex' : page2,\n",
    "    'days' : page3\n",
    "}\n",
    "pg = st.sidebar.radio('Navigate pages ' ,options= pgs.keys())\n",
    "\n",
    "pgs[pg]()"
   ]
  },
  {
   "cell_type": "code",
   "execution_count": 151,
   "id": "826e40a2",
   "metadata": {},
   "outputs": [
    {
     "name": "stdout",
     "output_type": "stream",
     "text": [
      "^C\n"
     ]
    }
   ],
   "source": [
    "! streamlit run app11.py"
   ]
  },
  {
   "cell_type": "markdown",
   "id": "2b3a79b6-b5ca-4069-b309-646dcd86cdf7",
   "metadata": {},
   "source": [
    "# Assignment "
   ]
  },
  {
   "cell_type": "markdown",
   "id": "630c5e4d-b28e-4969-b1f3-f4788e2610a2",
   "metadata": {},
   "source": [
    "### Page EX\n",
    "* first page filter data on time to display box plot about total_bill\n",
    "* second one to filter on sex to display histogram about total_bill\n",
    "* third one to filter on smoker to display viloin and scatter plot about total_bill , tips "
   ]
  },
  {
   "cell_type": "code",
   "execution_count": 1,
   "id": "d184eecd",
   "metadata": {},
   "outputs": [
    {
     "name": "stdout",
     "output_type": "stream",
     "text": [
      "Overwriting app11.py\n"
     ]
    }
   ],
   "source": [
    "%%writefile app11.py\n",
    "\n",
    "\n",
    "\n",
    "\n",
    "\n",
    "\n",
    "\n",
    "\n"
   ]
  },
  {
   "cell_type": "code",
   "execution_count": 2,
   "id": "f81c178a",
   "metadata": {},
   "outputs": [
    {
     "name": "stdout",
     "output_type": "stream",
     "text": [
      "^C\n"
     ]
    }
   ],
   "source": [
    "! streamlit run app11.py"
   ]
  },
  {
   "cell_type": "markdown",
   "id": "4714c974-4e72-4a4d-bbe3-0912a94751e2",
   "metadata": {},
   "source": [
    "* page \n",
    "* tabs\n",
    "* columns "
   ]
  },
  {
   "cell_type": "code",
   "execution_count": null,
   "id": "328fbb71-53fc-430b-b118-8c6e7fe2951e",
   "metadata": {},
   "outputs": [],
   "source": []
  }
 ],
 "metadata": {
  "kernelspec": {
   "display_name": "Python 3 (ipykernel)",
   "language": "python",
   "name": "python3"
  },
  "language_info": {
   "codemirror_mode": {
    "name": "ipython",
    "version": 3
   },
   "file_extension": ".py",
   "mimetype": "text/x-python",
   "name": "python",
   "nbconvert_exporter": "python",
   "pygments_lexer": "ipython3",
   "version": "3.11.7"
  }
 },
 "nbformat": 4,
 "nbformat_minor": 5
}
